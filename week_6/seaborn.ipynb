{
 "cells": [
  {
   "cell_type": "code",
   "execution_count": 2,
   "metadata": {},
   "outputs": [],
   "source": [
    "import numpy as np\n",
    "import matplotlib.pyplot as plt\n",
    "from numpy import genfromtxt\n",
    "import seaborn as sns\n",
    "import pandas as pd"
   ]
  },
  {
   "cell_type": "code",
   "execution_count": 9,
   "metadata": {},
   "outputs": [],
   "source": [
    "sns.set_style(\"darkgrid\")\n",
    "sns.set_context(\"notebook\")"
   ]
  },
  {
   "cell_type": "code",
   "execution_count": 4,
   "metadata": {},
   "outputs": [],
   "source": [
    "\"\"\" load mpg to csv \"\"\"\n",
    "fuel = genfromtxt('fuel.csv', delimiter=',', dtype='float64')"
   ]
  },
  {
   "cell_type": "code",
   "execution_count": 5,
   "metadata": {},
   "outputs": [
    {
     "data": {
      "image/png": "[encoded data removed]",
      "text/plain": [
       "<Figure size 432x288 with 1 Axes>"
      ]
     },
     "metadata": {},
     "output_type": "display_data"
    }
   ],
   "source": [
    "\"\"\" plot mpg \"\"\"\n",
    "\n",
    "mpg = fuel[:,0]\n",
    "\n",
    "sns.distplot(mpg,bins=20,kde=False,rug=True);"
   ]
  },
  {
   "cell_type": "code",
   "execution_count": 6,
   "metadata": {},
   "outputs": [
    {
     "name": "stderr",
     "output_type": "stream",
     "text": [
      "/home/k1896419/.conda/envs/DS_Py27/lib/python3.5/site-packages/scipy/stats/stats.py:1713: FutureWarning: Using a non-tuple sequence for multidimensional indexing is deprecated; use `arr[tuple(seq)]` instead of `arr[seq]`. In the future this will be interpreted as an array index, `arr[np.array(seq)]`, which will result either in an error or a different result.\n",
      "  return np.add.reduce(sorted[indexer] * weights, axis=axis) / sumval\n"
     ]
    },
    {
     "data": {
      "image/png": "[encoded data removed]",
      "text/plain": [
       "<Figure size 432x432 with 3 Axes>"
      ]
     },
     "metadata": {},
     "output_type": "display_data"
    }
   ],
   "source": [
    "\"\"\" plot mpg \"\"\"\n",
    "\n",
    "mpg = fuel[:,0]\n",
    "gpm = fuel[:,1]\n",
    "\n",
    "sns.jointplot(x=mpg,y=gpm);"
   ]
  },
  {
   "cell_type": "code",
   "execution_count": 17,
   "metadata": {},
   "outputs": [
    {
     "data": {
      "text/html": [
       "<div>\n",
       "<style scoped>\n",
       "    .dataframe tbody tr th:only-of-type {\n",
       "        vertical-align: middle;\n",
       "    }\n",
       "\n",
       "    .dataframe tbody tr th {\n",
       "        vertical-align: top;\n",
       "    }\n",
       "\n",
       "    .dataframe thead th {\n",
       "        text-align: right;\n",
       "    }\n",
       "</style>\n",
       "<table border=\"1\" class=\"dataframe\">\n",
       "  <thead>\n",
       "    <tr style=\"text-align: right;\">\n",
       "      <th></th>\n",
       "      <th>MPG</th>\n",
       "      <th>GPM</th>\n",
       "      <th>WT</th>\n",
       "      <th>DIS</th>\n",
       "      <th>NC</th>\n",
       "      <th>HP</th>\n",
       "      <th>ACC</th>\n",
       "      <th>ET</th>\n",
       "    </tr>\n",
       "  </thead>\n",
       "  <tbody>\n",
       "    <tr>\n",
       "      <th>0</th>\n",
       "      <td>16.9</td>\n",
       "      <td>5.917</td>\n",
       "      <td>4.360</td>\n",
       "      <td>350</td>\n",
       "      <td>8</td>\n",
       "      <td>155</td>\n",
       "      <td>14.9</td>\n",
       "      <td>1</td>\n",
       "    </tr>\n",
       "    <tr>\n",
       "      <th>1</th>\n",
       "      <td>15.5</td>\n",
       "      <td>6.452</td>\n",
       "      <td>4.054</td>\n",
       "      <td>351</td>\n",
       "      <td>8</td>\n",
       "      <td>142</td>\n",
       "      <td>14.3</td>\n",
       "      <td>1</td>\n",
       "    </tr>\n",
       "    <tr>\n",
       "      <th>2</th>\n",
       "      <td>19.2</td>\n",
       "      <td>5.208</td>\n",
       "      <td>3.605</td>\n",
       "      <td>267</td>\n",
       "      <td>8</td>\n",
       "      <td>125</td>\n",
       "      <td>15.0</td>\n",
       "      <td>1</td>\n",
       "    </tr>\n",
       "    <tr>\n",
       "      <th>3</th>\n",
       "      <td>18.5</td>\n",
       "      <td>5.405</td>\n",
       "      <td>3.940</td>\n",
       "      <td>360</td>\n",
       "      <td>8</td>\n",
       "      <td>150</td>\n",
       "      <td>13.0</td>\n",
       "      <td>1</td>\n",
       "    </tr>\n",
       "    <tr>\n",
       "      <th>4</th>\n",
       "      <td>30.0</td>\n",
       "      <td>3.333</td>\n",
       "      <td>2.155</td>\n",
       "      <td>98</td>\n",
       "      <td>4</td>\n",
       "      <td>68</td>\n",
       "      <td>16.5</td>\n",
       "      <td>0</td>\n",
       "    </tr>\n",
       "    <tr>\n",
       "      <th>5</th>\n",
       "      <td>27.5</td>\n",
       "      <td>3.636</td>\n",
       "      <td>2.560</td>\n",
       "      <td>134</td>\n",
       "      <td>4</td>\n",
       "      <td>95</td>\n",
       "      <td>14.2</td>\n",
       "      <td>0</td>\n",
       "    </tr>\n",
       "    <tr>\n",
       "      <th>6</th>\n",
       "      <td>27.2</td>\n",
       "      <td>3.676</td>\n",
       "      <td>2.300</td>\n",
       "      <td>119</td>\n",
       "      <td>4</td>\n",
       "      <td>97</td>\n",
       "      <td>14.7</td>\n",
       "      <td>0</td>\n",
       "    </tr>\n",
       "    <tr>\n",
       "      <th>7</th>\n",
       "      <td>30.9</td>\n",
       "      <td>3.236</td>\n",
       "      <td>2.230</td>\n",
       "      <td>105</td>\n",
       "      <td>4</td>\n",
       "      <td>75</td>\n",
       "      <td>14.5</td>\n",
       "      <td>0</td>\n",
       "    </tr>\n",
       "    <tr>\n",
       "      <th>8</th>\n",
       "      <td>20.3</td>\n",
       "      <td>4.926</td>\n",
       "      <td>2.830</td>\n",
       "      <td>131</td>\n",
       "      <td>5</td>\n",
       "      <td>103</td>\n",
       "      <td>15.9</td>\n",
       "      <td>0</td>\n",
       "    </tr>\n",
       "    <tr>\n",
       "      <th>9</th>\n",
       "      <td>17.0</td>\n",
       "      <td>5.882</td>\n",
       "      <td>3.140</td>\n",
       "      <td>163</td>\n",
       "      <td>6</td>\n",
       "      <td>125</td>\n",
       "      <td>13.6</td>\n",
       "      <td>0</td>\n",
       "    </tr>\n",
       "    <tr>\n",
       "      <th>10</th>\n",
       "      <td>21.6</td>\n",
       "      <td>4.630</td>\n",
       "      <td>2.795</td>\n",
       "      <td>121</td>\n",
       "      <td>4</td>\n",
       "      <td>115</td>\n",
       "      <td>15.7</td>\n",
       "      <td>0</td>\n",
       "    </tr>\n",
       "    <tr>\n",
       "      <th>11</th>\n",
       "      <td>16.2</td>\n",
       "      <td>6.173</td>\n",
       "      <td>3.410</td>\n",
       "      <td>163</td>\n",
       "      <td>6</td>\n",
       "      <td>133</td>\n",
       "      <td>15.8</td>\n",
       "      <td>0</td>\n",
       "    </tr>\n",
       "    <tr>\n",
       "      <th>12</th>\n",
       "      <td>20.6</td>\n",
       "      <td>4.854</td>\n",
       "      <td>3.380</td>\n",
       "      <td>231</td>\n",
       "      <td>6</td>\n",
       "      <td>105</td>\n",
       "      <td>15.8</td>\n",
       "      <td>0</td>\n",
       "    </tr>\n",
       "    <tr>\n",
       "      <th>13</th>\n",
       "      <td>20.8</td>\n",
       "      <td>4.808</td>\n",
       "      <td>3.070</td>\n",
       "      <td>200</td>\n",
       "      <td>6</td>\n",
       "      <td>85</td>\n",
       "      <td>16.7</td>\n",
       "      <td>0</td>\n",
       "    </tr>\n",
       "    <tr>\n",
       "      <th>14</th>\n",
       "      <td>18.6</td>\n",
       "      <td>5.376</td>\n",
       "      <td>3.620</td>\n",
       "      <td>225</td>\n",
       "      <td>6</td>\n",
       "      <td>110</td>\n",
       "      <td>18.7</td>\n",
       "      <td>0</td>\n",
       "    </tr>\n",
       "    <tr>\n",
       "      <th>15</th>\n",
       "      <td>18.1</td>\n",
       "      <td>5.525</td>\n",
       "      <td>3.410</td>\n",
       "      <td>258</td>\n",
       "      <td>6</td>\n",
       "      <td>120</td>\n",
       "      <td>15.1</td>\n",
       "      <td>0</td>\n",
       "    </tr>\n",
       "    <tr>\n",
       "      <th>16</th>\n",
       "      <td>17.0</td>\n",
       "      <td>5.882</td>\n",
       "      <td>3.840</td>\n",
       "      <td>305</td>\n",
       "      <td>8</td>\n",
       "      <td>130</td>\n",
       "      <td>15.4</td>\n",
       "      <td>1</td>\n",
       "    </tr>\n",
       "    <tr>\n",
       "      <th>17</th>\n",
       "      <td>17.6</td>\n",
       "      <td>5.682</td>\n",
       "      <td>3.725</td>\n",
       "      <td>302</td>\n",
       "      <td>8</td>\n",
       "      <td>129</td>\n",
       "      <td>13.4</td>\n",
       "      <td>1</td>\n",
       "    </tr>\n",
       "    <tr>\n",
       "      <th>18</th>\n",
       "      <td>16.5</td>\n",
       "      <td>6.061</td>\n",
       "      <td>3.955</td>\n",
       "      <td>351</td>\n",
       "      <td>8</td>\n",
       "      <td>138</td>\n",
       "      <td>13.2</td>\n",
       "      <td>1</td>\n",
       "    </tr>\n",
       "    <tr>\n",
       "      <th>19</th>\n",
       "      <td>18.2</td>\n",
       "      <td>5.495</td>\n",
       "      <td>3.830</td>\n",
       "      <td>318</td>\n",
       "      <td>8</td>\n",
       "      <td>135</td>\n",
       "      <td>15.2</td>\n",
       "      <td>1</td>\n",
       "    </tr>\n",
       "    <tr>\n",
       "      <th>20</th>\n",
       "      <td>26.5</td>\n",
       "      <td>3.774</td>\n",
       "      <td>2.585</td>\n",
       "      <td>140</td>\n",
       "      <td>4</td>\n",
       "      <td>88</td>\n",
       "      <td>14.4</td>\n",
       "      <td>0</td>\n",
       "    </tr>\n",
       "    <tr>\n",
       "      <th>21</th>\n",
       "      <td>21.9</td>\n",
       "      <td>4.566</td>\n",
       "      <td>2.910</td>\n",
       "      <td>171</td>\n",
       "      <td>6</td>\n",
       "      <td>109</td>\n",
       "      <td>16.6</td>\n",
       "      <td>1</td>\n",
       "    </tr>\n",
       "    <tr>\n",
       "      <th>22</th>\n",
       "      <td>34.1</td>\n",
       "      <td>2.933</td>\n",
       "      <td>1.975</td>\n",
       "      <td>86</td>\n",
       "      <td>4</td>\n",
       "      <td>65</td>\n",
       "      <td>15.2</td>\n",
       "      <td>0</td>\n",
       "    </tr>\n",
       "    <tr>\n",
       "      <th>23</th>\n",
       "      <td>35.1</td>\n",
       "      <td>2.849</td>\n",
       "      <td>1.915</td>\n",
       "      <td>98</td>\n",
       "      <td>4</td>\n",
       "      <td>80</td>\n",
       "      <td>14.4</td>\n",
       "      <td>0</td>\n",
       "    </tr>\n",
       "    <tr>\n",
       "      <th>24</th>\n",
       "      <td>27.4</td>\n",
       "      <td>3.650</td>\n",
       "      <td>2.670</td>\n",
       "      <td>121</td>\n",
       "      <td>4</td>\n",
       "      <td>80</td>\n",
       "      <td>15.0</td>\n",
       "      <td>0</td>\n",
       "    </tr>\n",
       "    <tr>\n",
       "      <th>25</th>\n",
       "      <td>31.5</td>\n",
       "      <td>3.175</td>\n",
       "      <td>1.990</td>\n",
       "      <td>89</td>\n",
       "      <td>4</td>\n",
       "      <td>71</td>\n",
       "      <td>14.9</td>\n",
       "      <td>0</td>\n",
       "    </tr>\n",
       "    <tr>\n",
       "      <th>26</th>\n",
       "      <td>29.5</td>\n",
       "      <td>3.390</td>\n",
       "      <td>2.135</td>\n",
       "      <td>98</td>\n",
       "      <td>4</td>\n",
       "      <td>68</td>\n",
       "      <td>16.6</td>\n",
       "      <td>0</td>\n",
       "    </tr>\n",
       "    <tr>\n",
       "      <th>27</th>\n",
       "      <td>28.4</td>\n",
       "      <td>3.521</td>\n",
       "      <td>2.670</td>\n",
       "      <td>151</td>\n",
       "      <td>4</td>\n",
       "      <td>90</td>\n",
       "      <td>16.0</td>\n",
       "      <td>0</td>\n",
       "    </tr>\n",
       "    <tr>\n",
       "      <th>28</th>\n",
       "      <td>28.8</td>\n",
       "      <td>3.472</td>\n",
       "      <td>2.595</td>\n",
       "      <td>173</td>\n",
       "      <td>6</td>\n",
       "      <td>115</td>\n",
       "      <td>11.3</td>\n",
       "      <td>1</td>\n",
       "    </tr>\n",
       "    <tr>\n",
       "      <th>29</th>\n",
       "      <td>26.8</td>\n",
       "      <td>3.731</td>\n",
       "      <td>2.700</td>\n",
       "      <td>173</td>\n",
       "      <td>6</td>\n",
       "      <td>115</td>\n",
       "      <td>12.9</td>\n",
       "      <td>1</td>\n",
       "    </tr>\n",
       "    <tr>\n",
       "      <th>30</th>\n",
       "      <td>33.5</td>\n",
       "      <td>2.985</td>\n",
       "      <td>2.556</td>\n",
       "      <td>151</td>\n",
       "      <td>4</td>\n",
       "      <td>90</td>\n",
       "      <td>13.2</td>\n",
       "      <td>0</td>\n",
       "    </tr>\n",
       "    <tr>\n",
       "      <th>31</th>\n",
       "      <td>34.2</td>\n",
       "      <td>2.924</td>\n",
       "      <td>2.200</td>\n",
       "      <td>105</td>\n",
       "      <td>4</td>\n",
       "      <td>70</td>\n",
       "      <td>13.2</td>\n",
       "      <td>0</td>\n",
       "    </tr>\n",
       "    <tr>\n",
       "      <th>32</th>\n",
       "      <td>31.8</td>\n",
       "      <td>3.145</td>\n",
       "      <td>2.020</td>\n",
       "      <td>85</td>\n",
       "      <td>4</td>\n",
       "      <td>65</td>\n",
       "      <td>19.2</td>\n",
       "      <td>0</td>\n",
       "    </tr>\n",
       "    <tr>\n",
       "      <th>33</th>\n",
       "      <td>37.3</td>\n",
       "      <td>2.681</td>\n",
       "      <td>2.130</td>\n",
       "      <td>91</td>\n",
       "      <td>4</td>\n",
       "      <td>69</td>\n",
       "      <td>14.7</td>\n",
       "      <td>0</td>\n",
       "    </tr>\n",
       "    <tr>\n",
       "      <th>34</th>\n",
       "      <td>30.5</td>\n",
       "      <td>3.279</td>\n",
       "      <td>2.190</td>\n",
       "      <td>97</td>\n",
       "      <td>4</td>\n",
       "      <td>78</td>\n",
       "      <td>14.1</td>\n",
       "      <td>0</td>\n",
       "    </tr>\n",
       "    <tr>\n",
       "      <th>35</th>\n",
       "      <td>22.0</td>\n",
       "      <td>4.545</td>\n",
       "      <td>2.815</td>\n",
       "      <td>146</td>\n",
       "      <td>6</td>\n",
       "      <td>97</td>\n",
       "      <td>14.5</td>\n",
       "      <td>0</td>\n",
       "    </tr>\n",
       "    <tr>\n",
       "      <th>36</th>\n",
       "      <td>21.5</td>\n",
       "      <td>4.651</td>\n",
       "      <td>2.600</td>\n",
       "      <td>121</td>\n",
       "      <td>4</td>\n",
       "      <td>110</td>\n",
       "      <td>12.8</td>\n",
       "      <td>0</td>\n",
       "    </tr>\n",
       "    <tr>\n",
       "      <th>37</th>\n",
       "      <td>31.9</td>\n",
       "      <td>3.135</td>\n",
       "      <td>1.925</td>\n",
       "      <td>89</td>\n",
       "      <td>4</td>\n",
       "      <td>71</td>\n",
       "      <td>14.0</td>\n",
       "      <td>0</td>\n",
       "    </tr>\n",
       "  </tbody>\n",
       "</table>\n",
       "</div>"
      ],
      "text/plain": [
       "     MPG    GPM     WT  DIS  NC   HP   ACC  ET\n",
       "0   16.9  5.917  4.360  350   8  155  14.9   1\n",
       "1   15.5  6.452  4.054  351   8  142  14.3   1\n",
       "2   19.2  5.208  3.605  267   8  125  15.0   1\n",
       "3   18.5  5.405  3.940  360   8  150  13.0   1\n",
       "4   30.0  3.333  2.155   98   4   68  16.5   0\n",
       "5   27.5  3.636  2.560  134   4   95  14.2   0\n",
       "6   27.2  3.676  2.300  119   4   97  14.7   0\n",
       "7   30.9  3.236  2.230  105   4   75  14.5   0\n",
       "8   20.3  4.926  2.830  131   5  103  15.9   0\n",
       "9   17.0  5.882  3.140  163   6  125  13.6   0\n",
       "10  21.6  4.630  2.795  121   4  115  15.7   0\n",
       "11  16.2  6.173  3.410  163   6  133  15.8   0\n",
       "12  20.6  4.854  3.380  231   6  105  15.8   0\n",
       "13  20.8  4.808  3.070  200   6   85  16.7   0\n",
       "14  18.6  5.376  3.620  225   6  110  18.7   0\n",
       "15  18.1  5.525  3.410  258   6  120  15.1   0\n",
       "16  17.0  5.882  3.840  305   8  130  15.4   1\n",
       "17  17.6  5.682  3.725  302   8  129  13.4   1\n",
       "18  16.5  6.061  3.955  351   8  138  13.2   1\n",
       "19  18.2  5.495  3.830  318   8  135  15.2   1\n",
       "20  26.5  3.774  2.585  140   4   88  14.4   0\n",
       "21  21.9  4.566  2.910  171   6  109  16.6   1\n",
       "22  34.1  2.933  1.975   86   4   65  15.2   0\n",
       "23  35.1  2.849  1.915   98   4   80  14.4   0\n",
       "24  27.4  3.650  2.670  121   4   80  15.0   0\n",
       "25  31.5  3.175  1.990   89   4   71  14.9   0\n",
       "26  29.5  3.390  2.135   98   4   68  16.6   0\n",
       "27  28.4  3.521  2.670  151   4   90  16.0   0\n",
       "28  28.8  3.472  2.595  173   6  115  11.3   1\n",
       "29  26.8  3.731  2.700  173   6  115  12.9   1\n",
       "30  33.5  2.985  2.556  151   4   90  13.2   0\n",
       "31  34.2  2.924  2.200  105   4   70  13.2   0\n",
       "32  31.8  3.145  2.020   85   4   65  19.2   0\n",
       "33  37.3  2.681  2.130   91   4   69  14.7   0\n",
       "34  30.5  3.279  2.190   97   4   78  14.1   0\n",
       "35  22.0  4.545  2.815  146   6   97  14.5   0\n",
       "36  21.5  4.651  2.600  121   4  110  12.8   0\n",
       "37  31.9  3.135  1.925   89   4   71  14.0   0"
      ]
     },
     "execution_count": 17,
     "metadata": {},
     "output_type": "execute_result"
    }
   ],
   "source": [
    "fuel = pd.read_csv (\"fuel.csv\", names=[\"MPG\",\"GPM\",\"WT\",\"DIS\",\"NC\",\"HP\",\"ACC\",\"ET\"])\n",
    "fuel"
   ]
  },
  {
   "cell_type": "code",
   "execution_count": 20,
   "metadata": {},
   "outputs": [
    {
     "data": {
      "text/plain": [
       "<seaborn.axisgrid.FacetGrid at 0x7f793ceafcc0>"
      ]
     },
     "execution_count": 20,
     "metadata": {},
     "output_type": "execute_result"
    },
    {
     "data": {
      "image/png": "[encoded data removed]",
      "text/plain": [
       "<Figure size 864x216 with 4 Axes>"
      ]
     },
     "metadata": {},
     "output_type": "display_data"
    }
   ],
   "source": [
    "g = sns.FacetGrid(fuel, col=\"NC\")\n",
    "g.map(plt.hist,\"MPG\")"
   ]
  },
  {
   "cell_type": "code",
   "execution_count": 22,
   "metadata": {},
   "outputs": [
    {
     "data": {
      "text/plain": [
       "<seaborn.axisgrid.FacetGrid at 0x7f793d2f13c8>"
      ]
     },
     "execution_count": 22,
     "metadata": {},
     "output_type": "execute_result"
    },
    {
     "data": {
      "image/png": "[encoded data removed]",
      "text/plain": [
       "<Figure size 432x216 with 2 Axes>"
      ]
     },
     "metadata": {},
     "output_type": "display_data"
    }
   ],
   "source": [
    "g = sns.FacetGrid(fuel, col=\"ET\")\n",
    "g.map(plt.hist,\"DIS\")"
   ]
  },
  {
   "cell_type": "code",
   "execution_count": 25,
   "metadata": {},
   "outputs": [
    {
     "name": "stderr",
     "output_type": "stream",
     "text": [
      "/home/k1896419/.conda/envs/DS_Py27/lib/python3.5/site-packages/seaborn/axisgrid.py:715: UserWarning: Using the stripplot function without specifying `order` is likely to produce an incorrect plot.\n",
      "  warnings.warn(warning)\n"
     ]
    },
    {
     "data": {
      "text/plain": [
       "<seaborn.axisgrid.FacetGrid at 0x7f79468c4e80>"
      ]
     },
     "execution_count": 25,
     "metadata": {},
     "output_type": "execute_result"
    },
    {
     "data": {
      "image/png": "[encoded data removed]",
      "text/plain": [
       "<Figure size 864x216 with 4 Axes>"
      ]
     },
     "metadata": {},
     "output_type": "display_data"
    }
   ],
   "source": [
    "g = sns.FacetGrid(fuel, col=\"NC\")\n",
    "g.map(sns.stripplot,\"MPG\")"
   ]
  },
  {
   "cell_type": "code",
   "execution_count": 30,
   "metadata": {},
   "outputs": [
    {
     "data": {
      "text/plain": [
       "<seaborn.axisgrid.PairGrid at 0x7f793ba68748>"
      ]
     },
     "execution_count": 30,
     "metadata": {},
     "output_type": "execute_result"
    },
    {
     "data": {
      "image/png": "[encoded data removed]",
      "text/plain": [
       "<Figure size 720x720 with 16 Axes>"
      ]
     },
     "metadata": {},
     "output_type": "display_data"
    }
   ],
   "source": [
    "g = sns.PairGrid(fuel,vars=[\"MPG\",\"GPM\",\"WT\",\"DIS\"])\n",
    "g.map(plt.scatter)"
   ]
  },
  {
   "cell_type": "code",
   "execution_count": 7,
   "metadata": {},
   "outputs": [
    {
     "ename": "IndexError",
     "evalue": "only integers, slices (`:`), ellipsis (`...`), numpy.newaxis (`None`) and integer or boolean arrays are valid indices",
     "output_type": "error",
     "traceback": [
      "\u001b[0;31m---------------------------------------------------------------------------\u001b[0m",
      "\u001b[0;31mIndexError\u001b[0m                                Traceback (most recent call last)",
      "\u001b[0;32m<ipython-input-7-530dd02d661f>\u001b[0m in \u001b[0;36m<module>\u001b[0;34m()\u001b[0m\n\u001b[0;32m----> 1\u001b[0;31m \u001b[0mg\u001b[0m \u001b[0;34m=\u001b[0m \u001b[0msns\u001b[0m\u001b[0;34m.\u001b[0m\u001b[0mPairGrid\u001b[0m\u001b[0;34m(\u001b[0m\u001b[0mfuel\u001b[0m\u001b[0;34m,\u001b[0m\u001b[0mvars\u001b[0m\u001b[0;34m=\u001b[0m\u001b[0;34m[\u001b[0m\u001b[0;34m\"MPG\"\u001b[0m\u001b[0;34m,\u001b[0m\u001b[0;34m\"GPM\"\u001b[0m\u001b[0;34m,\u001b[0m\u001b[0;34m\"WT\"\u001b[0m\u001b[0;34m,\u001b[0m\u001b[0;34m\"DIS\"\u001b[0m\u001b[0;34m]\u001b[0m\u001b[0;34m,\u001b[0m\u001b[0mhue\u001b[0m\u001b[0;34m=\u001b[0m\u001b[0;34m\"ET\"\u001b[0m\u001b[0;34m)\u001b[0m\u001b[0;34m\u001b[0m\u001b[0m\n\u001b[0m\u001b[1;32m      2\u001b[0m \u001b[0mg\u001b[0m\u001b[0;34m.\u001b[0m\u001b[0mmap\u001b[0m\u001b[0;34m(\u001b[0m\u001b[0mplt\u001b[0m\u001b[0;34m.\u001b[0m\u001b[0mscatter\u001b[0m\u001b[0;34m)\u001b[0m\u001b[0;34m\u001b[0m\u001b[0m\n",
      "\u001b[0;32m~/.conda/envs/DS_Py27/lib/python3.5/site-packages/seaborn/axisgrid.py\u001b[0m in \u001b[0;36m__init__\u001b[0;34m(self, data, hue, hue_order, palette, hue_kws, vars, x_vars, y_vars, diag_sharey, height, aspect, despine, dropna, size)\u001b[0m\n\u001b[1;32m   1288\u001b[0m                                       index=data.index)\n\u001b[1;32m   1289\u001b[0m         \u001b[0;32melse\u001b[0m\u001b[0;34m:\u001b[0m\u001b[0;34m\u001b[0m\u001b[0m\n\u001b[0;32m-> 1290\u001b[0;31m             \u001b[0mhue_names\u001b[0m \u001b[0;34m=\u001b[0m \u001b[0mutils\u001b[0m\u001b[0;34m.\u001b[0m\u001b[0mcategorical_order\u001b[0m\u001b[0;34m(\u001b[0m\u001b[0mdata\u001b[0m\u001b[0;34m[\u001b[0m\u001b[0mhue\u001b[0m\u001b[0;34m]\u001b[0m\u001b[0;34m,\u001b[0m \u001b[0mhue_order\u001b[0m\u001b[0;34m)\u001b[0m\u001b[0;34m\u001b[0m\u001b[0m\n\u001b[0m\u001b[1;32m   1291\u001b[0m             \u001b[0;32mif\u001b[0m \u001b[0mdropna\u001b[0m\u001b[0;34m:\u001b[0m\u001b[0;34m\u001b[0m\u001b[0m\n\u001b[1;32m   1292\u001b[0m                 \u001b[0;31m# Filter NA from the list of unique hue names\u001b[0m\u001b[0;34m\u001b[0m\u001b[0;34m\u001b[0m\u001b[0m\n",
      "\u001b[0;31mIndexError\u001b[0m: only integers, slices (`:`), ellipsis (`...`), numpy.newaxis (`None`) and integer or boolean arrays are valid indices"
     ]
    },
    {
     "data": {
      "image/png": "[encoded data removed]",
      "text/plain": [
       "<Figure size 720x720 with 16 Axes>"
      ]
     },
     "metadata": {},
     "output_type": "display_data"
    }
   ],
   "source": [
    "g = sns.PairGrid(fuel,vars=[\"MPG\",\"GPM\",\"WT\",\"DIS\"],hue=\"ET\")\n",
    "g.map(plt.scatter)"
   ]
  },
  {
   "cell_type": "code",
   "execution_count": 10,
   "metadata": {},
   "outputs": [
    {
     "name": "stderr",
     "output_type": "stream",
     "text": [
      "/home/k1896419/.conda/envs/DS_Py27/lib/python3.5/site-packages/scipy/stats/stats.py:1713: FutureWarning: Using a non-tuple sequence for multidimensional indexing is deprecated; use `arr[tuple(seq)]` instead of `arr[seq]`. In the future this will be interpreted as an array index, `arr[np.array(seq)]`, which will result either in an error or a different result.\n",
      "  return np.add.reduce(sorted[indexer] * weights, axis=axis) / sumval\n"
     ]
    },
    {
     "data": {
      "text/plain": [
       "<seaborn.axisgrid.JointGrid at 0x7f5d5adb1a58>"
      ]
     },
     "execution_count": 10,
     "metadata": {},
     "output_type": "execute_result"
    },
    {
     "data": {
      "image/png": "[encoded data removed]",
      "text/plain": [
       "<Figure size 432x432 with 3 Axes>"
      ]
     },
     "metadata": {},
     "output_type": "display_data"
    }
   ],
   "source": [
    "tips = sns.load_dataset(\"tips\")\n",
    "sns.jointplot(x=tips.total_bill,y=tips.tip,stat_func=None)"
   ]
  }
 ],
 "metadata": {
  "kernelspec": {
   "display_name": "Python 2",
   "language": "python",
   "name": "python2"
  },
  "language_info": {
   "codemirror_mode": {
    "name": "ipython",
    "version": 3
   },
   "file_extension": ".py",
   "mimetype": "text/x-python",
   "name": "python",
   "nbconvert_exporter": "python",
   "pygments_lexer": "ipython3",
   "version": "3.5.6"
  }
 },
 "nbformat": 4,
 "nbformat_minor": 2
}
